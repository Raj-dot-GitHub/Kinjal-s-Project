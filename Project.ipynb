{
 "cells": [
  {
   "cell_type": "code",
   "execution_count": 1,
   "id": "6c5636e4",
   "metadata": {},
   "outputs": [],
   "source": [
    "import numpy as np\n",
    "import pandas as pd\n",
    "import matplotlib.pyplot as plt\n",
    "import seaborn as sns\n",
    "import warnings\n",
    "warnings.filterwarnings(\"ignore\")\n",
    "%matplotlib inline"
   ]
  },
  {
   "cell_type": "code",
   "execution_count": 2,
   "id": "cf4d16f9",
   "metadata": {},
   "outputs": [],
   "source": [
    "data = pd.read_csv('Data set For rainfall (1) (Kinjal).csv')"
   ]
  },
  {
   "cell_type": "code",
   "execution_count": 3,
   "id": "5213a45b",
   "metadata": {},
   "outputs": [
    {
     "data": {
      "text/html": [
       "<div>\n",
       "<style scoped>\n",
       "    .dataframe tbody tr th:only-of-type {\n",
       "        vertical-align: middle;\n",
       "    }\n",
       "\n",
       "    .dataframe tbody tr th {\n",
       "        vertical-align: top;\n",
       "    }\n",
       "\n",
       "    .dataframe thead th {\n",
       "        text-align: right;\n",
       "    }\n",
       "</style>\n",
       "<table border=\"1\" class=\"dataframe\">\n",
       "  <thead>\n",
       "    <tr style=\"text-align: right;\">\n",
       "      <th></th>\n",
       "      <th>Unnamed: 0</th>\n",
       "      <th>Unnamed: 1</th>\n",
       "      <th>Y</th>\n",
       "      <th>X1</th>\n",
       "      <th>X2</th>\n",
       "    </tr>\n",
       "  </thead>\n",
       "  <tbody>\n",
       "    <tr>\n",
       "      <th>0</th>\n",
       "      <td>Year</td>\n",
       "      <td>S No.</td>\n",
       "      <td>ANNUAL RAINFALL(mm)</td>\n",
       "      <td>ANNUAL TEMPERATURE(�C)</td>\n",
       "      <td>ANNUAL WINDSPEED(km/h)</td>\n",
       "    </tr>\n",
       "    <tr>\n",
       "      <th>1</th>\n",
       "      <td>1901</td>\n",
       "      <td>1</td>\n",
       "      <td>711.4</td>\n",
       "      <td>25.42</td>\n",
       "      <td>24.22416667</td>\n",
       "    </tr>\n",
       "    <tr>\n",
       "      <th>2</th>\n",
       "      <td>1902</td>\n",
       "      <td>2</td>\n",
       "      <td>647.2</td>\n",
       "      <td>25.42</td>\n",
       "      <td>24.32666667</td>\n",
       "    </tr>\n",
       "    <tr>\n",
       "      <th>3</th>\n",
       "      <td>1903</td>\n",
       "      <td>3</td>\n",
       "      <td>869.9</td>\n",
       "      <td>25.01</td>\n",
       "      <td>23.98083333</td>\n",
       "    </tr>\n",
       "    <tr>\n",
       "      <th>4</th>\n",
       "      <td>1904</td>\n",
       "      <td>4</td>\n",
       "      <td>785.7</td>\n",
       "      <td>24.93</td>\n",
       "      <td>23.85</td>\n",
       "    </tr>\n",
       "  </tbody>\n",
       "</table>\n",
       "</div>"
      ],
      "text/plain": [
       "  Unnamed: 0 Unnamed: 1                    Y                      X1  \\\n",
       "0       Year      S No.  ANNUAL RAINFALL(mm)  ANNUAL TEMPERATURE(�C)   \n",
       "1       1901          1                711.4                   25.42   \n",
       "2       1902          2                647.2                   25.42   \n",
       "3       1903          3                869.9                   25.01   \n",
       "4       1904          4                785.7                   24.93   \n",
       "\n",
       "                       X2  \n",
       "0  ANNUAL WINDSPEED(km/h)  \n",
       "1             24.22416667  \n",
       "2             24.32666667  \n",
       "3             23.98083333  \n",
       "4                   23.85  "
      ]
     },
     "execution_count": 3,
     "metadata": {},
     "output_type": "execute_result"
    }
   ],
   "source": [
    "data.head()"
   ]
  },
  {
   "cell_type": "code",
   "execution_count": 4,
   "id": "14ca9582",
   "metadata": {},
   "outputs": [],
   "source": [
    "data.rename(columns = {'Unnamed: 0':'Year','Unnamed: 1':'Sr.No',\"Y\":\"Annual Rainfall(mm)\",\"X1\":\"Annual Temperature\",\"X2\":\"Annual Windspeed(km/h)\"}, inplace = True)"
   ]
  },
  {
   "cell_type": "code",
   "execution_count": 5,
   "id": "2216a497",
   "metadata": {},
   "outputs": [
    {
     "data": {
      "text/html": [
       "<div>\n",
       "<style scoped>\n",
       "    .dataframe tbody tr th:only-of-type {\n",
       "        vertical-align: middle;\n",
       "    }\n",
       "\n",
       "    .dataframe tbody tr th {\n",
       "        vertical-align: top;\n",
       "    }\n",
       "\n",
       "    .dataframe thead th {\n",
       "        text-align: right;\n",
       "    }\n",
       "</style>\n",
       "<table border=\"1\" class=\"dataframe\">\n",
       "  <thead>\n",
       "    <tr style=\"text-align: right;\">\n",
       "      <th></th>\n",
       "      <th>Year</th>\n",
       "      <th>Sr.No</th>\n",
       "      <th>Annual Rainfall(mm)</th>\n",
       "      <th>Annual Temperature</th>\n",
       "      <th>Annual Windspeed(km/h)</th>\n",
       "    </tr>\n",
       "  </thead>\n",
       "  <tbody>\n",
       "    <tr>\n",
       "      <th>1</th>\n",
       "      <td>1901</td>\n",
       "      <td>1</td>\n",
       "      <td>711.4</td>\n",
       "      <td>25.42</td>\n",
       "      <td>24.22416667</td>\n",
       "    </tr>\n",
       "    <tr>\n",
       "      <th>2</th>\n",
       "      <td>1902</td>\n",
       "      <td>2</td>\n",
       "      <td>647.2</td>\n",
       "      <td>25.42</td>\n",
       "      <td>24.32666667</td>\n",
       "    </tr>\n",
       "    <tr>\n",
       "      <th>3</th>\n",
       "      <td>1903</td>\n",
       "      <td>3</td>\n",
       "      <td>869.9</td>\n",
       "      <td>25.01</td>\n",
       "      <td>23.98083333</td>\n",
       "    </tr>\n",
       "    <tr>\n",
       "      <th>4</th>\n",
       "      <td>1904</td>\n",
       "      <td>4</td>\n",
       "      <td>785.7</td>\n",
       "      <td>24.93</td>\n",
       "      <td>23.85</td>\n",
       "    </tr>\n",
       "    <tr>\n",
       "      <th>5</th>\n",
       "      <td>1905</td>\n",
       "      <td>5</td>\n",
       "      <td>653.4</td>\n",
       "      <td>24.84</td>\n",
       "      <td>23.9325</td>\n",
       "    </tr>\n",
       "    <tr>\n",
       "      <th>...</th>\n",
       "      <td>...</td>\n",
       "      <td>...</td>\n",
       "      <td>...</td>\n",
       "      <td>...</td>\n",
       "      <td>...</td>\n",
       "    </tr>\n",
       "    <tr>\n",
       "      <th>113</th>\n",
       "      <td>2013</td>\n",
       "      <td>113</td>\n",
       "      <td>940.8</td>\n",
       "      <td>25.68</td>\n",
       "      <td>24.82</td>\n",
       "    </tr>\n",
       "    <tr>\n",
       "      <th>114</th>\n",
       "      <td>2014</td>\n",
       "      <td>114</td>\n",
       "      <td>801.6</td>\n",
       "      <td>25.73</td>\n",
       "      <td>24.7325</td>\n",
       "    </tr>\n",
       "    <tr>\n",
       "      <th>115</th>\n",
       "      <td>2015</td>\n",
       "      <td>115</td>\n",
       "      <td>848</td>\n",
       "      <td>25.92</td>\n",
       "      <td>24.9125</td>\n",
       "    </tr>\n",
       "    <tr>\n",
       "      <th>116</th>\n",
       "      <td>2016</td>\n",
       "      <td>116</td>\n",
       "      <td>739.7</td>\n",
       "      <td>26.2</td>\n",
       "      <td>26.45416667</td>\n",
       "    </tr>\n",
       "    <tr>\n",
       "      <th>117</th>\n",
       "      <td>2017</td>\n",
       "      <td>117</td>\n",
       "      <td>785.6</td>\n",
       "      <td>26.04</td>\n",
       "      <td>26.29166667</td>\n",
       "    </tr>\n",
       "  </tbody>\n",
       "</table>\n",
       "<p>117 rows × 5 columns</p>\n",
       "</div>"
      ],
      "text/plain": [
       "     Year Sr.No Annual Rainfall(mm) Annual Temperature Annual Windspeed(km/h)\n",
       "1    1901     1               711.4              25.42            24.22416667\n",
       "2    1902     2               647.2              25.42            24.32666667\n",
       "3    1903     3               869.9              25.01            23.98083333\n",
       "4    1904     4               785.7              24.93                  23.85\n",
       "5    1905     5               653.4              24.84                23.9325\n",
       "..    ...   ...                 ...                ...                    ...\n",
       "113  2013   113               940.8              25.68                  24.82\n",
       "114  2014   114               801.6              25.73                24.7325\n",
       "115  2015   115                 848              25.92                24.9125\n",
       "116  2016   116               739.7               26.2            26.45416667\n",
       "117  2017   117               785.6              26.04            26.29166667\n",
       "\n",
       "[117 rows x 5 columns]"
      ]
     },
     "execution_count": 5,
     "metadata": {},
     "output_type": "execute_result"
    }
   ],
   "source": [
    "data.drop([0])"
   ]
  },
  {
   "cell_type": "code",
   "execution_count": 6,
   "id": "3d61bbe8",
   "metadata": {},
   "outputs": [
    {
     "name": "stdout",
     "output_type": "stream",
     "text": [
      "<class 'pandas.core.frame.DataFrame'>\n",
      "RangeIndex: 118 entries, 0 to 117\n",
      "Data columns (total 5 columns):\n",
      " #   Column                  Non-Null Count  Dtype \n",
      "---  ------                  --------------  ----- \n",
      " 0   Year                    118 non-null    object\n",
      " 1   Sr.No                   118 non-null    object\n",
      " 2   Annual Rainfall(mm)     118 non-null    object\n",
      " 3   Annual Temperature      118 non-null    object\n",
      " 4   Annual Windspeed(km/h)  118 non-null    object\n",
      "dtypes: object(5)\n",
      "memory usage: 4.7+ KB\n"
     ]
    }
   ],
   "source": [
    "data.info()"
   ]
  },
  {
   "cell_type": "code",
   "execution_count": 7,
   "id": "89e21afc",
   "metadata": {},
   "outputs": [],
   "source": [
    "data.drop([\"Sr.No\"], axis = 1, inplace = True)"
   ]
  },
  {
   "cell_type": "code",
   "execution_count": 8,
   "id": "df7d7f76",
   "metadata": {},
   "outputs": [
    {
     "data": {
      "text/html": [
       "<div>\n",
       "<style scoped>\n",
       "    .dataframe tbody tr th:only-of-type {\n",
       "        vertical-align: middle;\n",
       "    }\n",
       "\n",
       "    .dataframe tbody tr th {\n",
       "        vertical-align: top;\n",
       "    }\n",
       "\n",
       "    .dataframe thead th {\n",
       "        text-align: right;\n",
       "    }\n",
       "</style>\n",
       "<table border=\"1\" class=\"dataframe\">\n",
       "  <thead>\n",
       "    <tr style=\"text-align: right;\">\n",
       "      <th></th>\n",
       "      <th>Year</th>\n",
       "      <th>Annual Rainfall(mm)</th>\n",
       "      <th>Annual Temperature</th>\n",
       "      <th>Annual Windspeed(km/h)</th>\n",
       "    </tr>\n",
       "  </thead>\n",
       "  <tbody>\n",
       "    <tr>\n",
       "      <th>0</th>\n",
       "      <td>Year</td>\n",
       "      <td>ANNUAL RAINFALL(mm)</td>\n",
       "      <td>ANNUAL TEMPERATURE(�C)</td>\n",
       "      <td>ANNUAL WINDSPEED(km/h)</td>\n",
       "    </tr>\n",
       "    <tr>\n",
       "      <th>1</th>\n",
       "      <td>1901</td>\n",
       "      <td>711.4</td>\n",
       "      <td>25.42</td>\n",
       "      <td>24.22416667</td>\n",
       "    </tr>\n",
       "    <tr>\n",
       "      <th>2</th>\n",
       "      <td>1902</td>\n",
       "      <td>647.2</td>\n",
       "      <td>25.42</td>\n",
       "      <td>24.32666667</td>\n",
       "    </tr>\n",
       "    <tr>\n",
       "      <th>3</th>\n",
       "      <td>1903</td>\n",
       "      <td>869.9</td>\n",
       "      <td>25.01</td>\n",
       "      <td>23.98083333</td>\n",
       "    </tr>\n",
       "    <tr>\n",
       "      <th>4</th>\n",
       "      <td>1904</td>\n",
       "      <td>785.7</td>\n",
       "      <td>24.93</td>\n",
       "      <td>23.85</td>\n",
       "    </tr>\n",
       "  </tbody>\n",
       "</table>\n",
       "</div>"
      ],
      "text/plain": [
       "   Year  Annual Rainfall(mm)      Annual Temperature  Annual Windspeed(km/h)\n",
       "0  Year  ANNUAL RAINFALL(mm)  ANNUAL TEMPERATURE(�C)  ANNUAL WINDSPEED(km/h)\n",
       "1  1901                711.4                   25.42             24.22416667\n",
       "2  1902                647.2                   25.42             24.32666667\n",
       "3  1903                869.9                   25.01             23.98083333\n",
       "4  1904                785.7                   24.93                   23.85"
      ]
     },
     "execution_count": 8,
     "metadata": {},
     "output_type": "execute_result"
    }
   ],
   "source": [
    "data.head()"
   ]
  },
  {
   "cell_type": "code",
   "execution_count": 9,
   "id": "cc49b9da",
   "metadata": {},
   "outputs": [
    {
     "data": {
      "text/plain": [
       "813.1     2\n",
       "901.4     2\n",
       "780.2     2\n",
       "954.6     1\n",
       "940.8     1\n",
       "         ..\n",
       "789       1\n",
       "1028.7    1\n",
       "739.7     1\n",
       "676.1     1\n",
       "818.4     1\n",
       "Name: Annual Rainfall(mm), Length: 115, dtype: int64"
      ]
     },
     "execution_count": 9,
     "metadata": {},
     "output_type": "execute_result"
    }
   ],
   "source": [
    "data[\"Annual Rainfall(mm)\"].value_counts()"
   ]
  },
  {
   "cell_type": "code",
   "execution_count": 10,
   "id": "d654ef4b",
   "metadata": {
    "scrolled": false
   },
   "outputs": [],
   "source": [
    "data[\"Year\"][1:] = data[\"Year\"][1:].astype(np.float)"
   ]
  },
  {
   "cell_type": "code",
   "execution_count": 11,
   "id": "2477b599",
   "metadata": {},
   "outputs": [
    {
     "data": {
      "text/plain": [
       "str"
      ]
     },
     "execution_count": 11,
     "metadata": {},
     "output_type": "execute_result"
    }
   ],
   "source": [
    "type(data[\"Year\"][0])"
   ]
  },
  {
   "cell_type": "code",
   "execution_count": 12,
   "id": "f8a5296c",
   "metadata": {},
   "outputs": [
    {
     "data": {
      "text/plain": [
       "0        Year\n",
       "1      1901.0\n",
       "2      1902.0\n",
       "3      1903.0\n",
       "4      1904.0\n",
       "        ...  \n",
       "113    2013.0\n",
       "114    2014.0\n",
       "115    2015.0\n",
       "116    2016.0\n",
       "117    2017.0\n",
       "Name: Year, Length: 118, dtype: object"
      ]
     },
     "execution_count": 12,
     "metadata": {},
     "output_type": "execute_result"
    }
   ],
   "source": [
    "data[\"Year\"]"
   ]
  },
  {
   "cell_type": "code",
   "execution_count": 13,
   "id": "adb0ddf6",
   "metadata": {},
   "outputs": [],
   "source": [
    "data.drop([0], inplace = True)"
   ]
  },
  {
   "cell_type": "code",
   "execution_count": 14,
   "id": "8e18d57e",
   "metadata": {},
   "outputs": [],
   "source": [
    "data['Annual Windspeed(km/h)'] = data['Annual Windspeed(km/h)'].astype(np.float)"
   ]
  },
  {
   "cell_type": "code",
   "execution_count": 15,
   "id": "727cb21f",
   "metadata": {},
   "outputs": [],
   "source": [
    "data['Annual Temperature'] = data['Annual Temperature'].astype(np.float)"
   ]
  },
  {
   "cell_type": "code",
   "execution_count": 16,
   "id": "d10cb5f1",
   "metadata": {},
   "outputs": [],
   "source": [
    "data['Annual Rainfall(mm)'] = data['Annual Rainfall(mm)'].astype(np.float)"
   ]
  },
  {
   "cell_type": "code",
   "execution_count": 17,
   "id": "198345f5",
   "metadata": {},
   "outputs": [
    {
     "name": "stdout",
     "output_type": "stream",
     "text": [
      "<class 'pandas.core.frame.DataFrame'>\n",
      "Int64Index: 117 entries, 1 to 117\n",
      "Data columns (total 4 columns):\n",
      " #   Column                  Non-Null Count  Dtype  \n",
      "---  ------                  --------------  -----  \n",
      " 0   Year                    117 non-null    object \n",
      " 1   Annual Rainfall(mm)     117 non-null    float64\n",
      " 2   Annual Temperature      117 non-null    float64\n",
      " 3   Annual Windspeed(km/h)  117 non-null    float64\n",
      "dtypes: float64(3), object(1)\n",
      "memory usage: 4.6+ KB\n"
     ]
    }
   ],
   "source": [
    "data.info()"
   ]
  },
  {
   "cell_type": "code",
   "execution_count": 18,
   "id": "9ba87451",
   "metadata": {},
   "outputs": [],
   "source": [
    "data['Annual Temperature'] = data['Annual Temperature'].astype(np.float)"
   ]
  },
  {
   "cell_type": "code",
   "execution_count": 19,
   "id": "e4f5a7dc",
   "metadata": {},
   "outputs": [
    {
     "name": "stdout",
     "output_type": "stream",
     "text": [
      "<class 'pandas.core.frame.DataFrame'>\n",
      "Int64Index: 117 entries, 1 to 117\n",
      "Data columns (total 4 columns):\n",
      " #   Column                  Non-Null Count  Dtype  \n",
      "---  ------                  --------------  -----  \n",
      " 0   Year                    117 non-null    object \n",
      " 1   Annual Rainfall(mm)     117 non-null    float64\n",
      " 2   Annual Temperature      117 non-null    float64\n",
      " 3   Annual Windspeed(km/h)  117 non-null    float64\n",
      "dtypes: float64(3), object(1)\n",
      "memory usage: 4.6+ KB\n"
     ]
    }
   ],
   "source": [
    "data.info()"
   ]
  },
  {
   "cell_type": "code",
   "execution_count": 20,
   "id": "c2d86066",
   "metadata": {},
   "outputs": [
    {
     "data": {
      "text/html": [
       "<div>\n",
       "<style scoped>\n",
       "    .dataframe tbody tr th:only-of-type {\n",
       "        vertical-align: middle;\n",
       "    }\n",
       "\n",
       "    .dataframe tbody tr th {\n",
       "        vertical-align: top;\n",
       "    }\n",
       "\n",
       "    .dataframe thead th {\n",
       "        text-align: right;\n",
       "    }\n",
       "</style>\n",
       "<table border=\"1\" class=\"dataframe\">\n",
       "  <thead>\n",
       "    <tr style=\"text-align: right;\">\n",
       "      <th></th>\n",
       "      <th>Annual Rainfall(mm)</th>\n",
       "      <th>Annual Temperature</th>\n",
       "      <th>Annual Windspeed(km/h)</th>\n",
       "    </tr>\n",
       "  </thead>\n",
       "  <tbody>\n",
       "    <tr>\n",
       "      <th>count</th>\n",
       "      <td>117.000000</td>\n",
       "      <td>117.000000</td>\n",
       "      <td>117.000000</td>\n",
       "    </tr>\n",
       "    <tr>\n",
       "      <th>mean</th>\n",
       "      <td>836.274359</td>\n",
       "      <td>25.285128</td>\n",
       "      <td>24.294160</td>\n",
       "    </tr>\n",
       "    <tr>\n",
       "      <th>std</th>\n",
       "      <td>115.791985</td>\n",
       "      <td>0.303572</td>\n",
       "      <td>0.433582</td>\n",
       "    </tr>\n",
       "    <tr>\n",
       "      <th>min</th>\n",
       "      <td>549.300000</td>\n",
       "      <td>24.540000</td>\n",
       "      <td>23.570833</td>\n",
       "    </tr>\n",
       "    <tr>\n",
       "      <th>25%</th>\n",
       "      <td>761.200000</td>\n",
       "      <td>25.080000</td>\n",
       "      <td>24.010833</td>\n",
       "    </tr>\n",
       "    <tr>\n",
       "      <th>50%</th>\n",
       "      <td>824.500000</td>\n",
       "      <td>25.240000</td>\n",
       "      <td>24.205833</td>\n",
       "    </tr>\n",
       "    <tr>\n",
       "      <th>75%</th>\n",
       "      <td>901.400000</td>\n",
       "      <td>25.460000</td>\n",
       "      <td>24.464167</td>\n",
       "    </tr>\n",
       "    <tr>\n",
       "      <th>max</th>\n",
       "      <td>1237.000000</td>\n",
       "      <td>26.200000</td>\n",
       "      <td>26.454167</td>\n",
       "    </tr>\n",
       "  </tbody>\n",
       "</table>\n",
       "</div>"
      ],
      "text/plain": [
       "       Annual Rainfall(mm)  Annual Temperature  Annual Windspeed(km/h)\n",
       "count           117.000000          117.000000              117.000000\n",
       "mean            836.274359           25.285128               24.294160\n",
       "std             115.791985            0.303572                0.433582\n",
       "min             549.300000           24.540000               23.570833\n",
       "25%             761.200000           25.080000               24.010833\n",
       "50%             824.500000           25.240000               24.205833\n",
       "75%             901.400000           25.460000               24.464167\n",
       "max            1237.000000           26.200000               26.454167"
      ]
     },
     "execution_count": 20,
     "metadata": {},
     "output_type": "execute_result"
    }
   ],
   "source": [
    "data.describe()"
   ]
  },
  {
   "cell_type": "code",
   "execution_count": 21,
   "id": "bf870072",
   "metadata": {},
   "outputs": [
    {
     "data": {
      "text/plain": [
       "<seaborn.axisgrid.FacetGrid at 0x13a224f1190>"
      ]
     },
     "execution_count": 21,
     "metadata": {},
     "output_type": "execute_result"
    },
    {
     "data": {
      "image/png": "[encoded data removed]",
      "text/plain": [
       "<Figure size 360x360 with 1 Axes>"
      ]
     },
     "metadata": {
      "needs_background": "light"
     },
     "output_type": "display_data"
    }
   ],
   "source": [
    "sns.displot(data[\"Annual Rainfall(mm)\"])"
   ]
  },
  {
   "cell_type": "code",
   "execution_count": 22,
   "id": "aca0e5c1",
   "metadata": {},
   "outputs": [
    {
     "data": {
      "text/plain": [
       "<AxesSubplot:xlabel='Annual Rainfall(mm)', ylabel='Density'>"
      ]
     },
     "execution_count": 22,
     "metadata": {},
     "output_type": "execute_result"
    },
    {
     "data": {
      "image/png": "[encoded data removed]",
      "text/plain": [
       "<Figure size 432x288 with 1 Axes>"
      ]
     },
     "metadata": {
      "needs_background": "light"
     },
     "output_type": "display_data"
    }
   ],
   "source": [
    "sns.distplot(data[\"Annual Rainfall(mm)\"])"
   ]
  },
  {
   "cell_type": "code",
   "execution_count": 23,
   "id": "c76cd681",
   "metadata": {},
   "outputs": [
    {
     "data": {
      "text/plain": [
       "<AxesSubplot:>"
      ]
     },
     "execution_count": 23,
     "metadata": {},
     "output_type": "execute_result"
    },
    {
     "data": {
      "image/png": "[encoded data removed]",
      "text/plain": [
       "<Figure size 432x288 with 2 Axes>"
      ]
     },
     "metadata": {
      "needs_background": "light"
     },
     "output_type": "display_data"
    }
   ],
   "source": [
    "sns.heatmap(data.corr(), annot = True)"
   ]
  },
  {
   "cell_type": "code",
   "execution_count": 24,
   "id": "a4450e4a",
   "metadata": {},
   "outputs": [
    {
     "data": {
      "text/plain": [
       "<AxesSubplot:>"
      ]
     },
     "execution_count": 24,
     "metadata": {},
     "output_type": "execute_result"
    },
    {
     "data": {
      "image/png": "[encoded data removed]",
      "text/plain": [
       "<Figure size 432x288 with 1 Axes>"
      ]
     },
     "metadata": {
      "needs_background": "light"
     },
     "output_type": "display_data"
    }
   ],
   "source": [
    "data[\"Annual Temperature\"].plot()"
   ]
  },
  {
   "cell_type": "code",
   "execution_count": 25,
   "id": "2f8b2e09",
   "metadata": {},
   "outputs": [
    {
     "data": {
      "text/plain": [
       "<seaborn.axisgrid.PairGrid at 0x13a23edfbb0>"
      ]
     },
     "execution_count": 25,
     "metadata": {},
     "output_type": "execute_result"
    },
    {
     "data": {
      "text/plain": [
       "<Figure size 360x504 with 0 Axes>"
      ]
     },
     "metadata": {},
     "output_type": "display_data"
    },
    {
     "data": {
      "image/png": "[encoded data removed]",
      "text/plain": [
       "<Figure size 720x720 with 20 Axes>"
      ]
     },
     "metadata": {
      "needs_background": "light"
     },
     "output_type": "display_data"
    }
   ],
   "source": [
    "plt.figure(figsize = (5,7))\n",
    "sns.pairplot(data)"
   ]
  },
  {
   "cell_type": "code",
   "execution_count": 26,
   "id": "f44745c6",
   "metadata": {},
   "outputs": [
    {
     "data": {
      "text/plain": [
       "Year                      0\n",
       "Annual Rainfall(mm)       0\n",
       "Annual Temperature        0\n",
       "Annual Windspeed(km/h)    0\n",
       "dtype: int64"
      ]
     },
     "execution_count": 26,
     "metadata": {},
     "output_type": "execute_result"
    }
   ],
   "source": [
    "data.isnull().sum()"
   ]
  },
  {
   "cell_type": "code",
   "execution_count": 27,
   "id": "492da65c",
   "metadata": {},
   "outputs": [],
   "source": [
    "X = data.drop([\"Year\", \"Annual Rainfall(mm)\"], axis =1)\n",
    "y = data.drop([\"Year\",\"Annual Windspeed(km/h)\",\"Annual Temperature\"], axis = 1)"
   ]
  },
  {
   "cell_type": "code",
   "execution_count": 28,
   "id": "a425eae5",
   "metadata": {
    "scrolled": false
   },
   "outputs": [
    {
     "data": {
      "text/html": [
       "<div>\n",
       "<style scoped>\n",
       "    .dataframe tbody tr th:only-of-type {\n",
       "        vertical-align: middle;\n",
       "    }\n",
       "\n",
       "    .dataframe tbody tr th {\n",
       "        vertical-align: top;\n",
       "    }\n",
       "\n",
       "    .dataframe thead th {\n",
       "        text-align: right;\n",
       "    }\n",
       "</style>\n",
       "<table border=\"1\" class=\"dataframe\">\n",
       "  <thead>\n",
       "    <tr style=\"text-align: right;\">\n",
       "      <th></th>\n",
       "      <th>Annual Temperature</th>\n",
       "      <th>Annual Windspeed(km/h)</th>\n",
       "    </tr>\n",
       "  </thead>\n",
       "  <tbody>\n",
       "    <tr>\n",
       "      <th>1</th>\n",
       "      <td>25.42</td>\n",
       "      <td>24.224167</td>\n",
       "    </tr>\n",
       "    <tr>\n",
       "      <th>2</th>\n",
       "      <td>25.42</td>\n",
       "      <td>24.326667</td>\n",
       "    </tr>\n",
       "    <tr>\n",
       "      <th>3</th>\n",
       "      <td>25.01</td>\n",
       "      <td>23.980833</td>\n",
       "    </tr>\n",
       "    <tr>\n",
       "      <th>4</th>\n",
       "      <td>24.93</td>\n",
       "      <td>23.850000</td>\n",
       "    </tr>\n",
       "    <tr>\n",
       "      <th>5</th>\n",
       "      <td>24.84</td>\n",
       "      <td>23.932500</td>\n",
       "    </tr>\n",
       "  </tbody>\n",
       "</table>\n",
       "</div>"
      ],
      "text/plain": [
       "   Annual Temperature  Annual Windspeed(km/h)\n",
       "1               25.42               24.224167\n",
       "2               25.42               24.326667\n",
       "3               25.01               23.980833\n",
       "4               24.93               23.850000\n",
       "5               24.84               23.932500"
      ]
     },
     "execution_count": 28,
     "metadata": {},
     "output_type": "execute_result"
    }
   ],
   "source": [
    "X.head()"
   ]
  },
  {
   "cell_type": "code",
   "execution_count": 29,
   "id": "d7d9a36b",
   "metadata": {
    "scrolled": true
   },
   "outputs": [
    {
     "data": {
      "text/html": [
       "<div>\n",
       "<style scoped>\n",
       "    .dataframe tbody tr th:only-of-type {\n",
       "        vertical-align: middle;\n",
       "    }\n",
       "\n",
       "    .dataframe tbody tr th {\n",
       "        vertical-align: top;\n",
       "    }\n",
       "\n",
       "    .dataframe thead th {\n",
       "        text-align: right;\n",
       "    }\n",
       "</style>\n",
       "<table border=\"1\" class=\"dataframe\">\n",
       "  <thead>\n",
       "    <tr style=\"text-align: right;\">\n",
       "      <th></th>\n",
       "      <th>Annual Rainfall(mm)</th>\n",
       "    </tr>\n",
       "  </thead>\n",
       "  <tbody>\n",
       "    <tr>\n",
       "      <th>1</th>\n",
       "      <td>711.4</td>\n",
       "    </tr>\n",
       "    <tr>\n",
       "      <th>2</th>\n",
       "      <td>647.2</td>\n",
       "    </tr>\n",
       "    <tr>\n",
       "      <th>3</th>\n",
       "      <td>869.9</td>\n",
       "    </tr>\n",
       "    <tr>\n",
       "      <th>4</th>\n",
       "      <td>785.7</td>\n",
       "    </tr>\n",
       "    <tr>\n",
       "      <th>5</th>\n",
       "      <td>653.4</td>\n",
       "    </tr>\n",
       "  </tbody>\n",
       "</table>\n",
       "</div>"
      ],
      "text/plain": [
       "   Annual Rainfall(mm)\n",
       "1                711.4\n",
       "2                647.2\n",
       "3                869.9\n",
       "4                785.7\n",
       "5                653.4"
      ]
     },
     "execution_count": 29,
     "metadata": {},
     "output_type": "execute_result"
    }
   ],
   "source": [
    "y.head()"
   ]
  },
  {
   "cell_type": "code",
   "execution_count": 30,
   "id": "fa7e4512",
   "metadata": {},
   "outputs": [],
   "source": [
    "from sklearn.model_selection import train_test_split\n",
    "from sklearn.linear_model import LinearRegression"
   ]
  },
  {
   "cell_type": "code",
   "execution_count": 31,
   "id": "6ee75794",
   "metadata": {},
   "outputs": [],
   "source": [
    "X_train, X_test, y_train, y_test = train_test_split(X, y, test_size=0.33, random_state=42)\n",
    "lr = LinearRegression()"
   ]
  },
  {
   "cell_type": "code",
   "execution_count": 32,
   "id": "89dcf886",
   "metadata": {},
   "outputs": [
    {
     "data": {
      "text/plain": [
       "((78, 2), (78, 1))"
      ]
     },
     "execution_count": 32,
     "metadata": {},
     "output_type": "execute_result"
    }
   ],
   "source": [
    "X_train.shape, y_train.shape"
   ]
  },
  {
   "cell_type": "code",
   "execution_count": 33,
   "id": "862319c8",
   "metadata": {},
   "outputs": [
    {
     "data": {
      "text/plain": [
       "38.940000000000005"
      ]
     },
     "execution_count": 33,
     "metadata": {},
     "output_type": "execute_result"
    }
   ],
   "source": [
    "118*0.33"
   ]
  },
  {
   "cell_type": "code",
   "execution_count": 34,
   "id": "9abc144c",
   "metadata": {},
   "outputs": [
    {
     "data": {
      "text/plain": [
       "((39, 2), (39, 1))"
      ]
     },
     "execution_count": 34,
     "metadata": {},
     "output_type": "execute_result"
    }
   ],
   "source": [
    "X_test.shape, y_test.shape"
   ]
  },
  {
   "cell_type": "code",
   "execution_count": 35,
   "id": "28a270a5",
   "metadata": {},
   "outputs": [
    {
     "data": {
      "text/plain": [
       "LinearRegression()"
      ]
     },
     "execution_count": 35,
     "metadata": {},
     "output_type": "execute_result"
    }
   ],
   "source": [
    "lr.fit(X_train,y_train)"
   ]
  },
  {
   "cell_type": "code",
   "execution_count": 36,
   "id": "57213550",
   "metadata": {},
   "outputs": [],
   "source": [
    "predict = lr.predict(X_test)"
   ]
  },
  {
   "cell_type": "code",
   "execution_count": 37,
   "id": "fb9ba57e",
   "metadata": {},
   "outputs": [],
   "source": [
    "df = pd.DataFrame(X_test)"
   ]
  },
  {
   "cell_type": "code",
   "execution_count": 38,
   "id": "10718bf7",
   "metadata": {},
   "outputs": [],
   "source": [
    "df[\"Annual Rainfall Prediction\"] = predict\n",
    "df[\"Actual\"] = y_test"
   ]
  },
  {
   "cell_type": "code",
   "execution_count": 40,
   "id": "79c5a82d",
   "metadata": {},
   "outputs": [
    {
     "data": {
      "text/html": [
       "<div>\n",
       "<style scoped>\n",
       "    .dataframe tbody tr th:only-of-type {\n",
       "        vertical-align: middle;\n",
       "    }\n",
       "\n",
       "    .dataframe tbody tr th {\n",
       "        vertical-align: top;\n",
       "    }\n",
       "\n",
       "    .dataframe thead th {\n",
       "        text-align: right;\n",
       "    }\n",
       "</style>\n",
       "<table border=\"1\" class=\"dataframe\">\n",
       "  <thead>\n",
       "    <tr style=\"text-align: right;\">\n",
       "      <th></th>\n",
       "      <th>Annual Temperature</th>\n",
       "      <th>Annual Windspeed(km/h)</th>\n",
       "      <th>Annual Rainfall Prediction</th>\n",
       "      <th>Actual</th>\n",
       "    </tr>\n",
       "  </thead>\n",
       "  <tbody>\n",
       "    <tr>\n",
       "      <th>45</th>\n",
       "      <td>24.69</td>\n",
       "      <td>23.915833</td>\n",
       "      <td>941.694402</td>\n",
       "      <td>852.8</td>\n",
       "    </tr>\n",
       "    <tr>\n",
       "      <th>5</th>\n",
       "      <td>24.84</td>\n",
       "      <td>23.932500</td>\n",
       "      <td>909.775054</td>\n",
       "      <td>653.4</td>\n",
       "    </tr>\n",
       "    <tr>\n",
       "      <th>54</th>\n",
       "      <td>25.24</td>\n",
       "      <td>24.126667</td>\n",
       "      <td>838.373552</td>\n",
       "      <td>901.4</td>\n",
       "    </tr>\n",
       "    <tr>\n",
       "      <th>43</th>\n",
       "      <td>24.84</td>\n",
       "      <td>23.949167</td>\n",
       "      <td>911.301966</td>\n",
       "      <td>857.5</td>\n",
       "    </tr>\n",
       "    <tr>\n",
       "      <th>11</th>\n",
       "      <td>25.08</td>\n",
       "      <td>23.954167</td>\n",
       "      <td>858.246023</td>\n",
       "      <td>812.3</td>\n",
       "    </tr>\n",
       "  </tbody>\n",
       "</table>\n",
       "</div>"
      ],
      "text/plain": [
       "    Annual Temperature  Annual Windspeed(km/h)  Annual Rainfall Prediction  \\\n",
       "45               24.69               23.915833                  941.694402   \n",
       "5                24.84               23.932500                  909.775054   \n",
       "54               25.24               24.126667                  838.373552   \n",
       "43               24.84               23.949167                  911.301966   \n",
       "11               25.08               23.954167                  858.246023   \n",
       "\n",
       "    Actual  \n",
       "45   852.8  \n",
       "5    653.4  \n",
       "54   901.4  \n",
       "43   857.5  \n",
       "11   812.3  "
      ]
     },
     "execution_count": 40,
     "metadata": {},
     "output_type": "execute_result"
    }
   ],
   "source": [
    "df.head()"
   ]
  },
  {
   "cell_type": "code",
   "execution_count": 41,
   "id": "742b4b37",
   "metadata": {},
   "outputs": [],
   "source": [
    "from sklearn.metrics import r2_score, mean_squared_error, mean_absolute_error"
   ]
  },
  {
   "cell_type": "code",
   "execution_count": 42,
   "id": "4571e907",
   "metadata": {},
   "outputs": [
    {
     "data": {
      "text/plain": [
       "-0.11669855193865653"
      ]
     },
     "execution_count": 42,
     "metadata": {},
     "output_type": "execute_result"
    }
   ],
   "source": [
    "# R-squared       \n",
    "r2_score(y_test, predict)"
   ]
  },
  {
   "cell_type": "code",
   "execution_count": 43,
   "id": "6ea480ac",
   "metadata": {},
   "outputs": [
    {
     "data": {
      "text/plain": [
       "11571.397892629277"
      ]
     },
     "execution_count": 43,
     "metadata": {},
     "output_type": "execute_result"
    }
   ],
   "source": [
    "# MSE\n",
    "mean_squared_error(y_test, predict)"
   ]
  },
  {
   "cell_type": "code",
   "execution_count": 44,
   "id": "8bf7785a",
   "metadata": {},
   "outputs": [
    {
     "data": {
      "text/plain": [
       "89.33016388039869"
      ]
     },
     "execution_count": 44,
     "metadata": {},
     "output_type": "execute_result"
    }
   ],
   "source": [
    "# MAE\n",
    "mean_absolute_error(y_test, predict)"
   ]
  },
  {
   "cell_type": "code",
   "execution_count": 49,
   "id": "2a989d7e",
   "metadata": {},
   "outputs": [
    {
     "data": {
      "text/plain": [
       "<matplotlib.collections.PathCollection at 0x13a255ab8b0>"
      ]
     },
     "execution_count": 49,
     "metadata": {},
     "output_type": "execute_result"
    },
    {
     "data": {
      "image/png": "[encoded data removed]",
      "text/plain": [
       "<Figure size 432x288 with 1 Axes>"
      ]
     },
     "metadata": {
      "needs_background": "light"
     },
     "output_type": "display_data"
    }
   ],
   "source": [
    "plt.scatter(y_test,predict)"
   ]
  },
  {
   "cell_type": "code",
   "execution_count": null,
   "id": "85e06c6f",
   "metadata": {},
   "outputs": [],
   "source": []
  }
 ],
 "metadata": {
  "kernelspec": {
   "display_name": "Python 3",
   "language": "python",
   "name": "python3"
  },
  "language_info": {
   "codemirror_mode": {
    "name": "ipython",
    "version": 3
   },
   "file_extension": ".py",
   "mimetype": "text/x-python",
   "name": "python",
   "nbconvert_exporter": "python",
   "pygments_lexer": "ipython3",
   "version": "3.8.8"
  }
 },
 "nbformat": 4,
 "nbformat_minor": 5
}
